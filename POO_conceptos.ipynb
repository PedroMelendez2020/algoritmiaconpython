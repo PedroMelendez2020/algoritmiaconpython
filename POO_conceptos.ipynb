{
  "nbformat": 4,
  "nbformat_minor": 0,
  "metadata": {
    "colab": {
      "name": "POO_conceptos.ipynb",
      "provenance": [],
      "include_colab_link": true
    },
    "kernelspec": {
      "name": "python3",
      "display_name": "Python 3"
    }
  },
  "cells": [
    {
      "cell_type": "markdown",
      "metadata": {
        "id": "view-in-github",
        "colab_type": "text"
      },
      "source": [
        "<a href=\"https://colab.research.google.com/github/PedroMelendez2020/algoritmiaconpython/blob/master/POO_conceptos.ipynb\" target=\"_parent\"><img src=\"https://colab.research.google.com/assets/colab-badge.svg\" alt=\"Open In Colab\"/></a>"
      ]
    },
    {
      "cell_type": "markdown",
      "metadata": {
        "id": "oggkzESNqvxB"
      },
      "source": [
        "# **Conceptos de programación orientada a objetos**"
      ]
    },
    {
      "cell_type": "markdown",
      "metadata": {
        "id": "FLueyZWMq8N4"
      },
      "source": [
        "Python nos permite utilizar distintas metodologías de programación. Hemos implementado inicialmente programas utilizando la programación lineal, luego vimos funciones y trabajamos con programación estructurada.\n",
        "\n",
        "Ahora introduciremos los conceptos de programación orientada a objetos. A partir de este concepto mostraremos en forma sencilla la metodología de Programación Orientada a Objetos.\n",
        "\n",
        "Se irán introduciendo conceptos de objeto, clase, atributo, método etc. y de todos estos temas se irán planteando problemas resueltos.\n",
        "\n",
        "Prácticamente todos los lenguajes desarrollados en los últimos 25 años implementan la posibilidad de trabajar con POO (Programación Orientada a Objetos)\n",
        "\n",
        "El lenguaje Python tiene la característica de permitir programar con las siguientes metodologías:\n",
        "\n",
        "Programación Lineal: Es cuando desarrollamos todo el código sin emplear funciones. El código es una secuencia lineal de comando.\n",
        "\n",
        "Programación Estructurada: Es cuando planteamos funciones que agrupan actividades a desarrollar y luego dentro del programa llamamos a dichas funciones que pueden estar dentro del mismo archivo (módulo) o en una librería separada.\n",
        "\n",
        "Programación Orientada a Objetos: Es cuando planteamos clases y definimos objetos de las mismas (Este es el objetivo de los próximos conceptos, aprender la metodología de programación orientada a objetos y la sintaxis particular de Python para la POO)\n",
        "\n",
        "**Conceptos básicos de Objetos**\n",
        "\n",
        "Un objeto es una entidad independiente con sus propios datos y programación. Las ventanas, menúes, carpetas de archivos pueden ser identificados como objetos; el motor de un auto también es considerado un objeto, en este caso, sus datos (atributos) describen sus características físicas y su programación (métodos) describen el funcionamiento interno y su interrelación con otras partes del automóvil (también objetos).\n",
        "\n",
        "El concepto renovador de la tecnología de Orientación a Objetos es la suma de funciones a elementos de datos, a esta unión se le llama encapsulamiento.\n",
        "Por ejemplo, un objeto Auto contiene ruedas, motor, velocidad, color, etc, llamados atributos. Encapsulados con estos datos se encuentran los métodos para arrancar, detenerse, dobla, frenar etc.\n",
        "\n",
        "La responsabilidad de un objeto auto consiste en realizar las acciones apropiadas y mantener actualizados sus datos internos.\n",
        "\n",
        "Cuando otra parte del programa (otros objetos) necesitan que el auto realice alguna de estas tareas (por ejemplo, arrancar) le envía un mensaje. A estos objetos que envían mensajes no les interesa la manera en que el objeto auto lleva a cabo sus tareas ni las estructuras de datos que maneja, por ello, están ocultos.\n",
        "\n",
        "Entonces, un objeto contiene información pública, lo que necesitan los otros objetos para interactuar con él e información privada, interna, lo que necesita el objeto para operar y que es irrelevante para los otros objetos de la aplicación."
      ]
    },
    {
      "cell_type": "markdown",
      "metadata": {
        "id": "GLoRGu_dr0zU"
      },
      "source": [
        "**Declaración de una clase y creación de objetos**\n",
        "\n",
        "La programación orientada a objetos se basa en la definición de clases; a diferencia de la programación estructurada, que está centrada en las funciones.\n",
        "\n",
        "Una clase es un molde del que luego se pueden crear múltiples objetos, con similares características.\n",
        "\n",
        "Un poco más abajo se define una clase Persona y luego se crean dos objetos de dicha clase.\n",
        "\n",
        "Una clase es una plantilla (molde), que define atributos (lo que conocemos como variables) y métodos (lo que conocemos como funciones).\n",
        "\n",
        "La clase define los atributos y métodos comunes a los objetos de ese tipo, pero luego, cada objeto tendrá sus propios valores y compartirán las mismas funciones.\n",
        "\n",
        "Debemos declarar una clase antes de poder crear objetos (instancias) de esa clase. Al crear un objeto de una clase, se dice que se crea una instancia de la clase o un objeto propiamente dicho."
      ]
    },
    {
      "cell_type": "markdown",
      "metadata": {
        "id": "K5kS1UcRsF04"
      },
      "source": [
        "**Problema 1:**\n",
        "\n",
        "Implementaremos una clase llamada Persona que tendrá como atributo (variable) su nombre y dos métodos (funciones), uno de dichos métodos inicializará el atributo nombre y el siguiente método mostrará en la pantalla el contenido del mismo.\n",
        "\n",
        "Definir dos objetos de la clase Persona."
      ]
    },
    {
      "cell_type": "code",
      "metadata": {
        "id": "Kb1Vg07_sRRF",
        "outputId": "ad4cfd9a-3bc0-4e60-bf8b-267c79191919",
        "colab": {
          "base_uri": "https://localhost:8080/",
          "height": 52
        }
      },
      "source": [
        "class Persona:\n",
        "\n",
        "    def inicializar(self,nom):\n",
        "        self.nombre=nom\n",
        "\n",
        "    def imprimir(self):\n",
        "        print(\"Nombre\",self.nombre)\n",
        "\n",
        "\n",
        "# bloque principal\n",
        "\n",
        "persona1=Persona()\n",
        "persona1.inicializar(\"Pedro\")\n",
        "persona1.imprimir()\n",
        "\n",
        "persona2=Persona()\n",
        "persona2.inicializar(\"Carla\")\n",
        "persona2.imprimir()"
      ],
      "execution_count": null,
      "outputs": [
        {
          "output_type": "stream",
          "text": [
            "Nombre Pedro\n",
            "Nombre Carla\n"
          ],
          "name": "stdout"
        }
      ]
    },
    {
      "cell_type": "markdown",
      "metadata": {
        "id": "IptMCUYaslDN"
      },
      "source": [
        "Siempre conviene buscar un nombre de clase lo más próximo a lo que representa. La palabra clave para declarar la clase es class, seguidamente el nombre de la clase y luego dos puntos.\n",
        "\n",
        "Los métodos de una clase se definen utilizando la misma sintaxis que para la definición de funciones.\n",
        "\n",
        "Como veremos todo método tiene como primer parámetro el identificador self que tiene la referencia del objeto que llamó al método.\n",
        "\n",
        "Luego dentro del método diferenciamos los atributos del objeto antecediendo el identificador self:\n",
        "\n",
        "`self.nombre=nom`\n",
        "\n",
        "Con la asignación previa almacenamos en el atributo nombre el parámetro nom, los atributos siguen existiendo cuando finaliza la ejecución del método. Por ello cuando se ejecuta el método imprimir podemos mostrar el nombre que cargamos en el primer método.\n",
        "\n",
        "Decíamos que una clase es un molde que nos permite definir objetos. Ahora veamos cual es la sintaxis para la creación de objetos de la clase Persona."
      ]
    },
    {
      "cell_type": "markdown",
      "metadata": {
        "id": "Mh3dzTAmtcil"
      },
      "source": [
        "**Problema 2:**\n",
        "\n",
        "Implementar una clase llamada Alumno que tenga como atributos su nombre y su nota. Definir los métodos para inicializar sus atributos, imprimirlos y mostrar un mensaje si está regular (nota mayor o igual a 4)\n",
        "\n",
        "Definir dos objetos de la clase Alumno."
      ]
    },
    {
      "cell_type": "code",
      "metadata": {
        "id": "JwZpiC-jtt0X",
        "outputId": "04e81849-5f91-4cc5-ad87-488fd525ab55",
        "colab": {
          "base_uri": "https://localhost:8080/",
          "height": 124
        }
      },
      "source": [
        "class Alumno:\n",
        "\n",
        "    def inicializar(self,nombre,nota):\n",
        "        self.nombre=nombre\n",
        "        self.nota=nota\n",
        "\n",
        "    def imprimir(self):\n",
        "        print(\"Nombre:\",self.nombre)\n",
        "        print(\"Nota:\",self.nota)\n",
        "\n",
        "    def mostrar_estado(self):\n",
        "        if self.nota>=4:\n",
        "            print(\"Regular\")\n",
        "        else:\n",
        "            print(\"Libre\")\n",
        "\n",
        "\n",
        "# bloque principal\n",
        "\n",
        "alumno1=Alumno()\n",
        "alumno1.inicializar(\"diego\",2)\n",
        "alumno1.imprimir()\n",
        "alumno1.mostrar_estado()\n",
        "\n",
        "alumno2=Alumno()\n",
        "alumno2.inicializar(\"ana\",10)\n",
        "alumno2.imprimir()\n",
        "alumno2.mostrar_estado()"
      ],
      "execution_count": null,
      "outputs": [
        {
          "output_type": "stream",
          "text": [
            "Nombre: diego\n",
            "Nota: 2\n",
            "Libre\n",
            "Nombre: ana\n",
            "Nota: 10\n",
            "Regular\n"
          ],
          "name": "stdout"
        }
      ]
    },
    {
      "cell_type": "markdown",
      "metadata": {
        "id": "lDDhE1abt9hJ"
      },
      "source": [
        "**Problemas propuestos**\n",
        "\n",
        "1. Confeccionar una clase que permita carga el nombre y la edad de una persona. Mostrar los datos cargados. Imprimir un mensaje si es mayor de edad (edad>=18)\n",
        "\n",
        "2. Desarrollar un programa que cargue los lados de un triángulo e implemente los siguientes métodos: inicializar los atributos, imprimir el valor del lado mayor y otro método que muestre si es equilátero o no. El nombre de la clase llamarla Triangulo.\n"
      ]
    },
    {
      "cell_type": "markdown",
      "metadata": {
        "id": "a1ZGIQ6cvk3q"
      },
      "source": [
        "**Método __init__ de la clase**\n",
        "\n",
        "El método __init__ es un método especial de una clase en Python. El objetivo fundamental del método __init__ es inicializar los atributos del objeto que creamos.\n",
        "\n",
        "Básicamente el método __init__ remplaza al método inicializar que habíamos hecho en el concepto anterior.\n",
        "\n",
        "Las ventajas de implementar el método __init__ en lugar del método inicializar son:\n",
        "\n",
        "El método __init__ es el primer método que se ejecuta cuando se crea un objeto.\n",
        "\n",
        "El método __init__ se llama automáticamente. Es decir es imposible de olvidarse de llamarlo ya que se llamará automáticamente.\n",
        "\n",
        "Quien utiliza POO en Python (Programación Orientada a Objetos) conoce el objetivo de este método.\n",
        "\n",
        "Otras características del método __init__ son:\n",
        "\n",
        "Se ejecuta inmediatamente luego de crear un objeto.\n",
        "\n",
        "El método __init__ no puede retornar dato.\n",
        "\n",
        "el método __init__ puede recibir parámetros que se utilizan normalmente para inicializar atributos.\n",
        "\n",
        "El método __init__ es un método opcional, de todos modos es muy común declararlo.\n",
        "\n",
        "Veamos la sintaxis del constructor:\n",
        "\n",
        "`def __init__([parámetros]): `\n",
        "\n",
        "   `[algoritmo]`\n",
        "\n",
        "Debemos definir un método llamado __init__ (es decir utilizamos dos caracteres de subrayado, la palabra init y seguidamente otros dos caracteres de subrayado).\n",
        "\n",
        "**Problema 3:**\n",
        "\n",
        "Confeccionar una clase que represente un empleado. Definir como atributos su nombre y su sueldo. En el método __init__ cargar los atributos por teclado y luego en otro método imprimir sus datos y por último uno que imprima un mensaje si debe pagar impuestos (si el sueldo supera a 3000)\n",
        "\n",
        "\n",
        "\n",
        "\n"
      ]
    },
    {
      "cell_type": "code",
      "metadata": {
        "id": "CWSVIIOTwavV",
        "outputId": "cd7252d2-1236-409e-c418-c1587d1a4741",
        "colab": {
          "base_uri": "https://localhost:8080/",
          "height": 106
        }
      },
      "source": [
        "class Empleado:\n",
        "\n",
        "    def __init__(self):\n",
        "        self.nombre=input(\"Ingrese el nombre del empleado:\")\n",
        "        self.sueldo=float(input(\"Ingrese el sueldo:\"))\n",
        "\n",
        "    def imprimir(self):\n",
        "        print(\"Nombre:\",self.nombre)\n",
        "        print(\"Sueldo:\",self.sueldo)\n",
        "\n",
        "    def paga_impuestos(self):\n",
        "        if self.sueldo>3000:\n",
        "            print(\"Debe pagar impuestos\")\n",
        "        else:\n",
        "            print(\"No paga impuestos\")\n",
        "\n",
        "\n",
        "# bloque principal\n",
        "\n",
        "empleado1=Empleado()\n",
        "empleado1.imprimir()\n",
        "empleado1.paga_impuestos()"
      ],
      "execution_count": null,
      "outputs": [
        {
          "output_type": "stream",
          "text": [
            "Ingrese el nombre del empleado:juan\n",
            "Ingrese el sueldo:4000\n",
            "Nombre: juan\n",
            "Sueldo: 4000.0\n",
            "Debe pagar impuestos\n"
          ],
          "name": "stdout"
        }
      ]
    },
    {
      "cell_type": "markdown",
      "metadata": {
        "id": "U3YFpu1Owok-"
      },
      "source": [
        "**Problema 4:**\n",
        "\n",
        "Desarrollar una clase que represente un punto en el plano y tenga los siguientes métodos: inicializar los valores de x e y que llegan como parámetros, imprimir en que cuadrante se encuentra dicho punto (concepto matemático, primer cuadrante si x e y son positivas, si x<0 e y>0 segundo cuadrante, etc.)\n",
        "\n"
      ]
    },
    {
      "cell_type": "code",
      "metadata": {
        "id": "toUUnhGmw0XL",
        "outputId": "09f3a8f5-364c-4b33-db0f-6ad91aae59c1",
        "colab": {
          "base_uri": "https://localhost:8080/",
          "height": 70
        }
      },
      "source": [
        "class Punto:\n",
        "\n",
        "    def __init__(self,x,y):\n",
        "        self.x=x\n",
        "        self.y=y\n",
        "\n",
        "    def imprimir(self):\n",
        "        print(\"Coordenada del punto\")\n",
        "        print(\"(\",self.x,\",\",self.y,\")\")\n",
        "\n",
        "    def imprimir_cuadrante(self):\n",
        "        if self.x>0 and self.y>0:\n",
        "            print(\"Primer cuadrange\")\n",
        "        else:\n",
        "            if self.x<0 and self.y>0:\n",
        "                print(\"Segundo cuadrante\")\n",
        "            else:\n",
        "                if self.x<0 and self.y<0:\n",
        "                    print(\"Tercer cuadrante\")\n",
        "                else:\n",
        "                    if self.x>0 and self.y<0:\n",
        "                        print(\"Cuarto cuadrante\")\n",
        "\n",
        "\n",
        "# bloque principal\n",
        "\n",
        "punto1=Punto(10,-2)\n",
        "punto1.imprimir()\n",
        "punto1.imprimir_cuadrante()"
      ],
      "execution_count": null,
      "outputs": [
        {
          "output_type": "stream",
          "text": [
            "Coordenada del punto\n",
            "( 10 , -2 )\n",
            "Cuarto cuadrante\n"
          ],
          "name": "stdout"
        }
      ]
    },
    {
      "cell_type": "code",
      "metadata": {
        "id": "ohxk73s6pcNx",
        "outputId": "a095e2bd-7a3f-4478-892a-a0db5874fb77",
        "colab": {
          "base_uri": "https://localhost:8080/",
          "height": 35
        }
      },
      "source": [
        "class Perro:\n",
        " def __init__(self, nombre, raza, edad):\n",
        "  self.nombre = nombre\n",
        "  self.raza = raza\n",
        "  self.edad = edad\n",
        "\n",
        " def ladra(self):\n",
        "  print (self.nombre, \"dice '¡Wooof!'\")\n",
        "\n",
        "mascota = Perro(\"Lassie\", \"Collie\", 18)\n",
        "mascota.ladra()"
      ],
      "execution_count": null,
      "outputs": [
        {
          "output_type": "stream",
          "text": [
            "Lassie dice '¡Wooof!'\n"
          ],
          "name": "stdout"
        }
      ]
    },
    {
      "cell_type": "markdown",
      "metadata": {
        "id": "9ilMfyIhxTn8"
      },
      "source": [
        "**Problemas propuestos**\n",
        "\n",
        "1. Desarrollar una clase que represente un Cuadrado y tenga los siguientes métodos: inicializar el valor del lado llegando como parámetro al método __init__ (definir un atributo llamado lado), imprimir su perímetro y su superficie.\n",
        "\n",
        "2. Implementar la clase Operaciones. Se deben cargar dos valores enteros por teclado en el método __init__, calcular su suma, resta, multiplicación y división, cada una en un método, imprimir dichos resultados.\n",
        "\n"
      ]
    },
    {
      "cell_type": "markdown",
      "metadata": {
        "id": "b54F6nApx_97"
      },
      "source": [
        "**Llamada de métodos desde otro método de la misma clase**\n",
        "\n",
        "\n",
        "Hasta ahora todos los problemas planteados hemos llamado a los métodos desde donde definimos un objeto de dicha clase, por ejemplo:\n",
        "\n",
        "empleado1=Empleado(\"diego\",2000)\n",
        "\n",
        "empleado1.paga_impuestos()\n",
        "\n",
        "Utilizamos la sintaxis:\n",
        "\n",
        "*[nombre del objeto].[nombre del método]*\n",
        "\n",
        "Es decir antecedemos al nombre del método el nombre del objeto y el operador punto\n",
        "\n",
        "Ahora bien que pasa si queremos llamar dentro de la clase a otro método que pertenece a la misma clase, la sintaxis es la siguiente:\n",
        "\n",
        "self.[nombre del método]\n",
        "\n",
        "**Es importante tener en cuenta que esto solo se puede hacer cuando estamos dentro de la misma clase.**\n",
        "\n",
        "**Problema 5:**\n",
        "\n",
        "Plantear una clase Operaciones que solicite en el método __init__ la carga de dos enteros e inmediatamente muestre su suma, resta, multiplicación y división. Hacer cada operación en otro método de la clase Operación y llamarlos desde el mismo método __init__\n",
        "\n",
        "\n"
      ]
    },
    {
      "cell_type": "code",
      "metadata": {
        "id": "2wBAEFl_z3DI",
        "outputId": "e73c7b67-d535-412c-faba-77cfc156880c",
        "colab": {
          "base_uri": "https://localhost:8080/",
          "height": 124
        }
      },
      "source": [
        "class Operacion:\n",
        "\n",
        "    def __init__(self):\n",
        "        self.valor1=int(input(\"Ingrese primer valor:\"))\n",
        "        self.valor2=int(input(\"Ingrese segundo valor:\"))\n",
        "        self.sumar()\n",
        "        self.restar()\n",
        "        self.multiplicar()\n",
        "        self.dividir()\n",
        "\n",
        "    def sumar(self):\n",
        "        suma=self.valor1+self.valor2\n",
        "        print(\"La suma es\",suma)\n",
        "\n",
        "    def restar(self):\n",
        "        resta=self.valor1-self.valor2\n",
        "        print(\"La rersta es\",resta)\n",
        "\n",
        "    def multiplicar(self):\n",
        "        multi=self.valor1*self.valor2\n",
        "        print(\"El producto es\",multi)\n",
        "\n",
        "    def dividir(self):\n",
        "        divi=self.valor1/self.valor2\n",
        "        print(\"La division es\",divi)\n",
        "\n",
        "\n",
        "# bloque principal\n",
        "\n",
        "operacion1=Operacion()"
      ],
      "execution_count": null,
      "outputs": [
        {
          "output_type": "stream",
          "text": [
            "Ingrese primer valor:4\n",
            "Ingrese segundo valor:5\n",
            "La suma es 9\n",
            "La rersta es -1\n",
            "El producto es 20\n",
            "La division es 0.8\n"
          ],
          "name": "stdout"
        }
      ]
    },
    {
      "cell_type": "markdown",
      "metadata": {
        "id": "MsWHwxYb0Iu1"
      },
      "source": [
        "**Problema 6:**\n",
        "Plantear una clase que administre dos listas de 5 nombres de alumnos y sus notas. \n",
        "Mostrar un menú de opciones que permita:\n",
        "\n",
        "1- Cargar alumnos.\n",
        "\n",
        "2- Listar alumnos.\n",
        "\n",
        "3- Mostrar alumnos con notas mayores o iguales a 7.\n",
        "\n",
        "4- Finalizar programa.\n"
      ]
    },
    {
      "cell_type": "code",
      "metadata": {
        "id": "hQIB3Mtzx9YF"
      },
      "source": [
        "class Alumnos:\n",
        "\n",
        "    def __init__(self):\n",
        "        self.nombres=[]\n",
        "        self.notas=[]\n",
        "\n",
        "    def menu(self):\n",
        "        opcion=0\n",
        "        while opcion != 4:\n",
        "            print(\"1- Cargar alumnos\")\n",
        "            print(\"2- Listar alumnos\")\n",
        "            print(\"3- Listado de alumnos con notas mayores o iguales a 7\")\n",
        "            print(\"4- Finalizar programa\")\n",
        "            opcion=int(input(\"Ingrese su opcion:\"))\n",
        "            if opcion==1:\n",
        "                self.cargar()\n",
        "            elif opcion==2:\n",
        "                self.listar()\n",
        "            elif opcion==3:\n",
        "                self.notas_altas()\n",
        "\n",
        "    def cargar(self):\n",
        "        for x in range(5):\n",
        "            nom=input(\"Ingrese nombre del alumno:\")\n",
        "            self.nombres.append(nom)\n",
        "            no=int(input(\"Nota del alumno:\"))\n",
        "            self.notas.append(no)\n",
        "\n",
        "    def listar(self):\n",
        "        print(\"Listado completo de alumnos\")\n",
        "        for x in range(5):\n",
        "            print(self.nombres[x],self.notas[x])\n",
        "        print(\"_____________________\")            \n",
        "\n",
        "    def notas_altas(self):\n",
        "        print(\"Alumnos con notas superiores o iguales a 7\")\n",
        "        for x in range(5):\n",
        "            if self.notas[x]>=7:\n",
        "                print(self.nombres[x],self.notas[x])\n",
        "        print(\"_____________________\")                \n",
        "\n",
        "\n",
        "# bloque principal\n",
        "\n",
        "alumnos=Alumnos()\n",
        "alumnos.menu()\n",
        "\n",
        "\n",
        "\n"
      ],
      "execution_count": null,
      "outputs": []
    },
    {
      "cell_type": "markdown",
      "metadata": {
        "id": "-ad_l7ww1Ra9"
      },
      "source": [
        "# **Problema propuesto**\n",
        "\n",
        "Confeccionar una clase que administre una agenda personal. Se debe almacenar el nombre de la persona, teléfono y mail\n",
        "\n",
        "Debe mostrar un menú con las siguientes opciones:\n",
        "\n",
        "1- Carga de un contacto en la agenda.\n",
        "\n",
        "2- Listado completo de la agenda.\n",
        "\n",
        "3- Consulta ingresando el nombre de la persona.\n",
        "\n",
        "4- Modificación de su teléfono y mail.\n",
        "\n",
        "5- Finalizar programa."
      ]
    },
    {
      "cell_type": "markdown",
      "metadata": {
        "id": "b7M2dGE31ZIu"
      },
      "source": [
        ""
      ]
    }
  ]
}