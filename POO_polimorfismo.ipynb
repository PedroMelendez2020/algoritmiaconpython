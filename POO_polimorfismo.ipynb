{
  "nbformat": 4,
  "nbformat_minor": 0,
  "metadata": {
    "colab": {
      "name": "POO_polimorfismo.ipynb",
      "provenance": [],
      "authorship_tag": "ABX9TyPeeyDvW9VSVmPafdYOdhXA",
      "include_colab_link": true
    },
    "kernelspec": {
      "name": "python3",
      "display_name": "Python 3"
    }
  },
  "cells": [
    {
      "cell_type": "markdown",
      "metadata": {
        "id": "view-in-github",
        "colab_type": "text"
      },
      "source": [
        "<a href=\"https://colab.research.google.com/github/PedroMelendez2020/algoritmiaconpython/blob/master/POO_polimorfismo.ipynb\" target=\"_parent\"><img src=\"https://colab.research.google.com/assets/colab-badge.svg\" alt=\"Open In Colab\"/></a>"
      ]
    },
    {
      "cell_type": "markdown",
      "metadata": {
        "id": "al97Bns1OTv8"
      },
      "source": [
        "# **Polimorfismo**"
      ]
    },
    {
      "cell_type": "markdown",
      "metadata": {
        "id": "TrIDMULIOZYY"
      },
      "source": [
        "La técnica de polimorfismo de la POO significa la capacidad de tomar más de una forma. Una operación puede presentar diferentes comportamientos en diferentes instancias. El comportamiento depende de los tipos de datos utilizados en la operación. El polimorfismo es ampliamente utilizado en la aplicación de la herencia.\n",
        "\n",
        "# **Sobrecarga de métodos**\n",
        "\n",
        "La sobrecarga de métodos es también conocida por Overriding Methods, le permite sustituir un método proveniente de la Clase Base(superclase, clase padre), en la Clase Derivada (subclase, clase hija) debe definir un método con la misma forma (es decir, mismo nombre de método y mismo número de parámetros que como está definido en la Clase Base)."
      ]
    },
    {
      "cell_type": "code",
      "metadata": {
        "id": "cF6xKNNhO2jx"
      },
      "source": [
        "class Persona():\n",
        "    def __init__(self, cedula):\n",
        "        self.__cedula = cedula\n",
        "\n",
        "    def getCedula(self):\n",
        "        return self.__cedula\n",
        "\n",
        "    def setCedula(self, cedula):\n",
        "         self.__cedula = cedula\n",
        "\n",
        "    def mensaje(self):\n",
        "        print(\"mensaje desde la clase Persona\")"
      ],
      "execution_count": 42,
      "outputs": []
    },
    {
      "cell_type": "code",
      "metadata": {
        "id": "ttiZMGKse8ww"
      },
      "source": [
        "class Obrero(Persona):\n",
        "    def __init__(self, cedula):\n",
        "        super().__init__(cedula)\n",
        "        self.especialista = 1\n",
        "\n",
        "    def mensaje(self):\n",
        "        print(\"mensaje desde la clase Obrero\")\n",
        "        print(\"especialista \", self.especialista)"
      ],
      "execution_count": 48,
      "outputs": []
    },
    {
      "cell_type": "code",
      "metadata": {
        "id": "56AAC4zOOQbQ",
        "outputId": "3076e5f0-a514-4fc7-b89c-c7e90fcd09fa",
        "colab": {
          "base_uri": "https://localhost:8080/"
        }
      },
      "source": [
        "persona1 = Persona(100)\n",
        "persona1.mensaje()\n",
        "\n",
        "obrero1 = Obrero(200)\n",
        "obrero1.mensaje()"
      ],
      "execution_count": 49,
      "outputs": [
        {
          "output_type": "stream",
          "text": [
            "mensaje desde la clase Persona\n",
            "mensaje desde la clase Obrero\n",
            "especialista  1\n"
          ],
          "name": "stdout"
        }
      ]
    },
    {
      "cell_type": "code",
      "metadata": {
        "id": "K5D0gqsZiy2d"
      },
      "source": [
        "class Animal:\n",
        "    def hablar(self):\n",
        "        print(\"Acción como se comunical el animal ...\")\n",
        "\n",
        "class Perro(Animal):\n",
        "    def hablar(self):\n",
        "        print(\"Guau!\")\n",
        "\n",
        "class Gato(Animal):\n",
        "    def hablar(self):\n",
        "        print(\"Miau!\")\n",
        "\n",
        "class Vaca(Animal):\n",
        "    def hablar(self):\n",
        "        print(\"Muuu!\")"
      ],
      "execution_count": 50,
      "outputs": []
    },
    {
      "cell_type": "code",
      "metadata": {
        "id": "2rclPna1jJnK",
        "outputId": "b0c1edd8-5f54-4d4f-d0fa-d90debf14de5",
        "colab": {
          "base_uri": "https://localhost:8080/"
        }
      },
      "source": [
        "michin = Gato()\n",
        "unAnimal = Animal()\n",
        "lucas = Perro()\n",
        "lucas.hablar()\n",
        "michin.hablar()\n",
        "unAnimal.hablar()"
      ],
      "execution_count": 55,
      "outputs": [
        {
          "output_type": "stream",
          "text": [
            "Guau!\n",
            "Miau!\n",
            "Acción como se comunical el animal ...\n"
          ],
          "name": "stdout"
        }
      ]
    }
  ]
}