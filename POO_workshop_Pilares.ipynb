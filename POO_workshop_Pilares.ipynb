{
  "nbformat": 4,
  "nbformat_minor": 0,
  "metadata": {
    "colab": {
      "name": "POO_workshop_Pilares",
      "provenance": [],
      "authorship_tag": "ABX9TyNmK0Fr+w2aA5mw0xSebHBW",
      "include_colab_link": true
    },
    "kernelspec": {
      "name": "python3",
      "display_name": "Python 3"
    }
  },
  "cells": [
    {
      "cell_type": "markdown",
      "metadata": {
        "id": "view-in-github",
        "colab_type": "text"
      },
      "source": [
        "<a href=\"https://colab.research.google.com/github/PedroMelendez2020/algoritmiaconpython/blob/master/POO_workshop_Pilares.ipynb\" target=\"_parent\"><img src=\"https://colab.research.google.com/assets/colab-badge.svg\" alt=\"Open In Colab\"/></a>"
      ]
    },
    {
      "cell_type": "code",
      "metadata": {
        "id": "1AZdsefcKwXL"
      },
      "source": [
        "class Programa():\n",
        "   def __init__(self, idPrograma, nomPrograma):\n",
        "     self.__idPrograma = idPrograma\n",
        "     self.__nomPrograma = nomPrograma\n",
        "\n",
        "   def setIdPrograma(self, idPrograma):\n",
        "       self.idPrograma = idPrograma \n",
        "\n",
        "   def getIdPrograma(self):\n",
        "       return self.__idPrograma\n",
        "\n",
        "   def setNomPrograma(self, nompro):\n",
        "       self.__nomPrograma = nompro\n",
        "\n",
        "   def getNomPrograma(self):\n",
        "       return self.__nomPrograma"
      ],
      "execution_count": 2,
      "outputs": []
    },
    {
      "cell_type": "code",
      "metadata": {
        "id": "7M_RavC_dPFQ"
      },
      "source": [
        "class Ficha():\n",
        "     def __init__(self, idFicha, idPrograma):\n",
        "       self.__idFicha= idFicha\n",
        "       self.__idPrograma = idPrograma\n",
        "\n",
        "     def setIdFicha(self, idFicha):\n",
        "       self.__idFicha = idFicha\n",
        "\n",
        "     def getIdFicha(self):\n",
        "       return self.__idFicha\n",
        "       \n",
        "     def setIdPrograma(self, idPrograma):\n",
        "         self.__idPrograma = idPrograma\n",
        "\n",
        "     def getIdPrograma(self):\n",
        "       return self.__idPrograma"
      ],
      "execution_count": 4,
      "outputs": []
    },
    {
      "cell_type": "code",
      "metadata": {
        "id": "oMs8L3oQdxD4"
      },
      "source": [
        "class Persona():\n",
        "     def __init__(self, idPersona, nombrePersona, correoPersona):\n",
        "       self.__idPersona = idPersona\n",
        "       self.__nombrePersona = nombrePersona\n",
        "       self.__correoPersona = correoPersona\n",
        "\n",
        "     def setIdPersona(self,idPersona):\n",
        "       self.__idPersona  = idPersona\n",
        "\n",
        "     def getIdPersona(self):\n",
        "       return self.__idPersona\n",
        "       \n",
        "     def setNombrePersona(self,nombrePersona):\n",
        "         self.__nombrePersona = nombrePersona\n",
        "\n",
        "     def getNombrePersona(self):\n",
        "       return self.__nombrePersona\n",
        "    \n",
        "     def setCorreoPersona(self,correoPersona):\n",
        "         self.__correoPersona = correoPersona\n",
        "\n",
        "     def getCorreoPersona(self):\n",
        "       return self.__correoPersona \n",
        "     \n",
        "     def imprimir(self):\n",
        "         print(\"IdPersona: \",self.getIdPersona())\n",
        "         print(\"Nombre: \", self.getNombrePersona())\n",
        "         print(\"Correo\", self.getCorreoPersona())\n"
      ],
      "execution_count": 7,
      "outputs": []
    },
    {
      "cell_type": "code",
      "metadata": {
        "id": "6xZ6cfypfGHL"
      },
      "source": [
        "class Aprendiz(Persona):\n",
        "\n",
        "  def __init__(self, idPersona, nombrePersona, correoPersona, fichaAprendiz, eps):\n",
        "    super().__init__(idPersona, nombrePersona, correoPersona)\n",
        "    self.__fichaAprendiz = fichaAprendiz\n",
        "    self.__eps = eps\n",
        "\n",
        "  def setFichaAprendiz(self, fichaAprendiz):\n",
        "         self.__fichaAprendiz = fichaAprendiz\n",
        "\n",
        "  def getFichaAprendiz(self):\n",
        "       return self.__fichaAprendiz\n",
        "\n",
        "  def setEps(self, eps):\n",
        "         self.__eps = eps\n",
        "\n",
        "  def getEps(self):\n",
        "       return self.__eps\n",
        "\n",
        "  def imprimir(self):\n",
        "      super().imprimir()\n",
        "      print(\"Ficha Aprendiz: \", self.__fichaAprendiz)\n",
        "      print(\"Eps: \", self.__eps)\n",
        "\n",
        "  def consulta(self, ficha, programa):\n",
        "         print(\"IdPersona: \", self.getIdPersona())\n",
        "         print(\"Nombre: \", self.getNombrePersona())\n",
        "         print(\"Ficha Aprendiz: \", ficha) #verifcicar\n",
        "         print(\"Nombre Programa\", programa) #verificar\n",
        "\n"
      ],
      "execution_count": 27,
      "outputs": []
    },
    {
      "cell_type": "code",
      "metadata": {
        "id": "S4u7i9XhhLYk"
      },
      "source": [
        "class Instructor(Persona):\n",
        "   def __init__(self, idPersona, nombrePersona, correoPersona, salario):\n",
        "      super().__init__(idPersona, nombrePersona, correoPersona)\n",
        "      self.__salario = salario\n",
        "      self.__salarioMensual = 0\n",
        "   \n",
        "   def set_Salario(self,sal):\n",
        "      self.__salario=sal\n",
        "\n",
        "   def get_Salario(self):\n",
        "    return self.__salario\n",
        "\n",
        "   def get_SalarioMensual(self):\n",
        "    return self.__salarioMensual\n",
        "  \n",
        "   def calcularSalario(self, diasLaborados):\n",
        "     self.__salarioMensual = self.__salario * diasLaborados / 30\n",
        "  \n",
        "   def imprimir(self):\n",
        "      super().imprimir()\n",
        "      print(\"Salario: \", self.__salario)\n",
        "      print(\"Salario Mensual: \", self.__salarioMensual)\n",
        "  "
      ],
      "execution_count": 12,
      "outputs": []
    },
    {
      "cell_type": "code",
      "metadata": {
        "id": "2iybHbYOnxHw"
      },
      "source": [
        "instructor1 = Instructor(\"1\",\"Juan Sanabria\",\"juan@sena.edu.co\",15000)\n",
        "instructor2 = Instructor(\"1\",\"Alavaro Suarez\",\"alvaro@sena.edu.co\",3000)\n",
        "\n",
        "instructor1.calcularSalario(10)\n",
        "instructor2.calcularSalario(15)\n",
        "\n",
        "instructor1.imprimir()\n",
        "print(\"-----------------\")\n",
        "instructor2.imprimir()"
      ],
      "execution_count": null,
      "outputs": []
    },
    {
      "cell_type": "code",
      "metadata": {
        "id": "8UjW3mLWqhhW"
      },
      "source": [
        "programa1 = Programa(\"10\",\"Sistemas\")\n",
        "programa2 = Programa(\"20\",\"Electronica\")\n",
        "\n",
        "ficha1 = Ficha(\"100\",\"20\")\n",
        "ficha2 = Ficha(\"200\",\"10\")\n",
        "\n",
        "aprendiz1 = Aprendiz(\"1000\",\"ana Ariza\",\"ana@misena.edu.co\",\"200\",\"sanitas\")\n",
        "aprendiz2 = Aprendiz(\"2000\",\"ruben rojas\",\"ruben@misena.edu.co\",\"200\",\"nueva eps\")\n",
        "aprendiz3 = Aprendiz(\"3000\",\"marcos martinez\",\"marcos@misena.edu.co\",\"100\",\"sanitas\")\n",
        "aprendiz4 = Aprendiz(\"4000\",\"susana suarez\",\"susana@misena.edu.co\",\"100\",\"nueva eps\")\n",
        "aprendiz5 = Aprendiz(\"4000\",\"pedro perez\",\"pedro@misena.edu.co\",\"999\",\"nueva eps\")\n",
        "\n",
        "\n",
        "aprendiz1.imprimir()\n",
        "print(\"---------------------------\")\n",
        "aprendiz2.imprimir()\n",
        "print(\"---------------------------\")\n",
        "aprendiz3.imprimir()\n",
        "print(\"---------------------------\")\n",
        "aprendiz4.imprimir()\n",
        "print(\"---------------------------\")\n",
        "aprendiz5.imprimir()\n",
        "print(\"---------------------------\")\n",
        "\n",
        "aprendiz1.consulta(ficha2.getIdPrograma(),programa1.getNomPrograma())\n",
        "aprendiz2.consulta(ficha1.getIdPrograma(),programa2.getNomPrograma())\n"
      ],
      "execution_count": null,
      "outputs": []
    },
    {
      "cell_type": "code",
      "metadata": {
        "id": "WUHwhyOT9jUe",
        "outputId": "72c69acc-3641-4683-c4d7-17b56717ed7c",
        "colab": {
          "base_uri": "https://localhost:8080/"
        }
      },
      "source": [
        "listaPrograma = []\n",
        "programa = Programa(\"10\",\"Sistemas\")\n",
        "listaPrograma.append(programa)\n",
        "programa = Programa(\"20\",\"Ingles \")\n",
        "listaPrograma.append(programa)\n",
        "programa = Programa(\"30\",\"Electronica\")\n",
        "listaPrograma.append(programa)\n",
        "programa = Programa(\"40\",\"Fisica\")\n",
        "listaPrograma.append(programa)\n",
        "programa = Programa(\"50\",\"Ambiental\")\n",
        "listaPrograma.append(programa)\n",
        "\n",
        "print(len(listaPrograma))\n"
      ],
      "execution_count": 36,
      "outputs": [
        {
          "output_type": "stream",
          "text": [
            "5\n"
          ],
          "name": "stdout"
        }
      ]
    },
    {
      "cell_type": "code",
      "metadata": {
        "id": "Rr4JJapbCHpk"
      },
      "source": [
        "listaFichas = []\n",
        "ficha = Ficha(\"100\",\"10\")\n",
        "listaFichas.append(ficha)\n",
        "ficha = Ficha(\"200\",\"20\")\n",
        "listaFichas.append(ficha)\n",
        "ficha = Ficha(\"300\",\"20\")\n",
        "listaFichas.append(ficha)\n",
        "ficha = Ficha(\"400\",\"10\")\n",
        "listaFichas.append(ficha)\n",
        "ficha = Ficha(\"500\",\"10\")\n",
        "listaFichas.append(ficha)\n",
        "\n"
      ],
      "execution_count": 38,
      "outputs": []
    },
    {
      "cell_type": "code",
      "metadata": {
        "id": "IoVRmyKI3iAQ"
      },
      "source": [
        "nficha = \"700\"\n",
        "\n",
        "def buscarFicha(nficha):\n",
        "  fichaEsta = False  \n",
        "  for elemento in listaFichas:\n",
        "    #print(elemento.getIdFicha(),\"  \",elemento.getIdPrograma())\n",
        "    if nficha == elemento.getIdFicha():\n",
        "      fichaEsta = True\n",
        "      break\n",
        "  return fichaEsta\n",
        "\n",
        "if buscarFicha(nficha):\n",
        "   print(\"si existe\")\n",
        "   aprendizy = Aprendiz(\"1000\",\"ana Ariza\",\"ana@misena.edu.co\",nficha,\"sanitas\")\n",
        "else:   \n",
        "    print(\"ficha no existe\")\n",
        "\n",
        "\n"
      ],
      "execution_count": null,
      "outputs": []
    },
    {
      "cell_type": "markdown",
      "metadata": {
        "id": "lX9pL-CvPnL5"
      },
      "source": [
        "crear una lista de 3 programas, los valores se ingresan por teclado\n",
        "crear una lista de 3 fichas, los valores se ingresan por teclado. Validar que el idPrograma exista en la lista de programas\n",
        "Crear una lista de 2 aprendices, los valores los ingresan por teclado. validar que fichaAprendiz existe en la lsita de fichas"
      ]
    },
    {
      "cell_type": "code",
      "metadata": {
        "id": "DZX0Ggh3KYD4"
      },
      "source": [
        ""
      ],
      "execution_count": null,
      "outputs": []
    }
  ]
}