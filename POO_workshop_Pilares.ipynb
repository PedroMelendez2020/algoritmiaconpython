{
  "nbformat": 4,
  "nbformat_minor": 0,
  "metadata": {
    "colab": {
      "name": "POO_workshop_Pilares",
      "provenance": [],
      "authorship_tag": "ABX9TyNUjRvRTTinvaorzn1cBSZz",
      "include_colab_link": true
    },
    "kernelspec": {
      "name": "python3",
      "display_name": "Python 3"
    }
  },
  "cells": [
    {
      "cell_type": "markdown",
      "metadata": {
        "id": "view-in-github",
        "colab_type": "text"
      },
      "source": [
        "<a href=\"https://colab.research.google.com/github/PedroMelendez2020/algoritmiaconpython/blob/master/POO_workshop_Pilares.ipynb\" target=\"_parent\"><img src=\"https://colab.research.google.com/assets/colab-badge.svg\" alt=\"Open In Colab\"/></a>"
      ]
    },
    {
      "cell_type": "code",
      "metadata": {
        "id": "1AZdsefcKwXL"
      },
      "source": [
        "class Programa():\n",
        "   def __init__(self, idPrograma, nomPrograma):\n",
        "     self.__idPrograma = idPrograma\n",
        "     self.__nomPrograma = nomPrograma\n",
        "\n",
        "   def setIdPrograma(self, idPrograma):\n",
        "       self.idPrograma = idPrograma \n",
        "\n",
        "   def getIdPrograma(self):\n",
        "       return self.__idPrograma\n",
        "\n",
        "   def setNomPrograma(self, nompro):\n",
        "       self.__nomPrograma = nompro\n",
        "\n",
        "   def getNomPrograma(self):\n",
        "       return self.__nomPrograma"
      ],
      "execution_count": 2,
      "outputs": []
    },
    {
      "cell_type": "code",
      "metadata": {
        "id": "7M_RavC_dPFQ"
      },
      "source": [
        "class Ficha():\n",
        "     def __init__(self, idFicha, idPrograma):\n",
        "       self.__idFicha= idFicha\n",
        "       self.__idPrograma = idPrograma\n",
        "\n",
        "     def setIdFicha(self, idFicha):\n",
        "       self.__idFicha = idFicha\n",
        "\n",
        "     def getIdFicha(self):\n",
        "       return self.__idFicha\n",
        "       \n",
        "     def setIdPrograma(self, idPrograma):\n",
        "         self.__idPrograma = idPrograma\n",
        "\n",
        "     def getIdPrograma(self):\n",
        "       return self.__idPrograma"
      ],
      "execution_count": 4,
      "outputs": []
    },
    {
      "cell_type": "code",
      "metadata": {
        "id": "oMs8L3oQdxD4"
      },
      "source": [
        "class Persona():\n",
        "     def __init__(self, idPersona, nombrePersona, correoPersona):\n",
        "       self.__idPersona = idPersona\n",
        "       self.__nombrePersona = nombrePersona\n",
        "       self.__correoPersona = correoPersona\n",
        "\n",
        "     def setIdPersona(self,idPersona):\n",
        "       self.__idPersona  = idPersona\n",
        "\n",
        "     def getIdPersona(self):\n",
        "       return self.__idPersona\n",
        "       \n",
        "     def setNombrePersona(self,nombrePersona):\n",
        "         self.__nombrePersona = nombrePersona\n",
        "\n",
        "     def getNombrePersona(self):\n",
        "       return self.__nombrePersona\n",
        "    \n",
        "     def setCorreoPersona(self,correoPersona):\n",
        "         self.__correoPersona = correoPersona\n",
        "\n",
        "     def getCorreoPersona(self):\n",
        "       return self.__correoPersona \n",
        "     \n",
        "     def imprimir(self):\n",
        "         print(\"IdPersona: \",self.getIdPersona())\n",
        "         print(\"Nombre: \", self.getNombrePersona())\n",
        "         print(\"Correo\", self.getCorreoPersona())\n"
      ],
      "execution_count": 7,
      "outputs": []
    },
    {
      "cell_type": "code",
      "metadata": {
        "id": "6xZ6cfypfGHL"
      },
      "source": [
        "class Aprendiz(Persona):\n",
        "\n",
        "  def __init__(self, idPersona, nombrePersona, correoPersona, fichaAprendiz, eps):\n",
        "    super().__init__(idPersona, nombrePersona, correoPersona)\n",
        "    self.__fichaAprendiz = fichaAprendiz\n",
        "    self.__eps = eps\n",
        "\n",
        "  def setFichaAprendiz(self, fichaAprendiz):\n",
        "         self.__fichaAprendiz = fichaAprendiz\n",
        "\n",
        "  def getFichaAprendiz(self):\n",
        "       return self.__fichaAprendiz\n",
        "\n",
        "  def setEps(self, eps):\n",
        "         self.__eps = eps\n",
        "\n",
        "  def getEps(self):\n",
        "       return self.__eps\n",
        "\n",
        "  def imprimir(self):\n",
        "      super().imprimir()\n",
        "      print(\"Ficha Aprendiz: \", self.__fichaAprendiz)\n",
        "      print(\"Eps: \", self.__eps)\n",
        "\n",
        "def Consulta(self):\n",
        "         print(\"IdPersona: \", self.getIdPersona())\n",
        "         print(\"Nombre: \", self.getNombrePersona())\n",
        "         print(\"FichaAprendiz: \",self.getFichaAprendiz()) #verifcicar\n",
        "         print(\"Nombre Programa\",self.getNomPrograma()) #verificar\n",
        "\n"
      ],
      "execution_count": 9,
      "outputs": []
    },
    {
      "cell_type": "code",
      "metadata": {
        "id": "S4u7i9XhhLYk"
      },
      "source": [
        "class Instructor(Persona):\n",
        "   def __init__(self, idPersona, nombrePersona, correoPersona, salario):\n",
        "      super().__init__(idPersona, nombrePersona, correoPersona)\n",
        "      self.__salario = salario\n",
        "      self.__salarioMensual = 0\n",
        "   \n",
        "   def set_Salario(self,sal):\n",
        "      self.__salario=sal\n",
        "\n",
        "   def get_Salario(self):\n",
        "    return self.__salario\n",
        "\n",
        "   def get_SalarioMensual(self):\n",
        "    return self.__salarioMensual\n",
        "  \n",
        "   def calcularSalario(self, diasLaborados):\n",
        "     self.__salarioMensual = self.__salario * diasLaborados / 30\n",
        "  \n",
        "   def imprimir(self):\n",
        "      super().imprimir()\n",
        "      print(\"Salario: \", self.__salario)\n",
        "      print(\"Salario Mensual: \", self.__salarioMensual)\n",
        "  "
      ],
      "execution_count": 12,
      "outputs": []
    },
    {
      "cell_type": "code",
      "metadata": {
        "id": "2iybHbYOnxHw",
        "outputId": "85480671-90b4-457d-c7bf-c342eb1a4c0d",
        "colab": {
          "base_uri": "https://localhost:8080/"
        }
      },
      "source": [
        "instructor1 = Instructor(\"1\",\"Juan Sanabria\",\"juan@sena.edu.co\",15000)\n",
        "instructor2 = Instructor(\"1\",\"Alavaro Suarez\",\"alvaro@sena.edu.co\",3000)\n",
        "\n",
        "instructor1.calcularSalario(10)\n",
        "instructor2.calcularSalario(15)\n",
        "\n",
        "instructor1.imprimir()\n",
        "print(\"-----------------\")\n",
        "instructor2.imprimir()"
      ],
      "execution_count": 16,
      "outputs": [
        {
          "output_type": "stream",
          "text": [
            "IdPersona:  1\n",
            "Nombre:  Juan Sanabria\n",
            "Correo juan@sena.edu.co\n",
            "Salario:  15000\n",
            "Salario Mensual:  5000.0\n",
            "-----------------\n",
            "IdPersona:  1\n",
            "Nombre:  Alavaro Suarez\n",
            "Correo alvaro@sena.edu.co\n",
            "Salario:  3000\n",
            "Salario Mensual:  1500.0\n"
          ],
          "name": "stdout"
        }
      ]
    },
    {
      "cell_type": "code",
      "metadata": {
        "id": "8UjW3mLWqhhW",
        "outputId": "5599d585-c037-4889-c899-53d0f463b9bf",
        "colab": {
          "base_uri": "https://localhost:8080/"
        }
      },
      "source": [
        "programa1 = Programa(\"10\",\"Sistemas\")\n",
        "programa2 = Programa(\"20\",\"Electronica\")\n",
        "\n",
        "ficha1 = Ficha(\"100\",\"20\")\n",
        "ficha2 = Ficha(\"200\",\"10\")\n",
        "\n",
        "aprendiz1 = Aprendiz(\"1000\",\"ana Ariza\",\"ana@misena.edu.co\",\"200\",\"sanitas\")\n",
        "aprendiz2 = Aprendiz(\"2000\",\"ruben rojas\",\"ruben@misena.edu.co\",\"200\",\"nueva eps\")\n",
        "aprendiz3 = Aprendiz(\"3000\",\"marcos martinez\",\"marcos@misena.edu.co\",\"100\",\"sanitas\")\n",
        "aprendiz4 = Aprendiz(\"4000\",\"susana suarez\",\"susana@misena.edu.co\",\"100\",\"nueva eps\")\n",
        "\n",
        "aprendiz1.imprimir()\n",
        "print(\"---------------------------\")\n",
        "aprendiz2.imprimir()\n",
        "print(\"---------------------------\")\n",
        "aprendiz3.imprimir()\n",
        "print(\"---------------------------\")\n",
        "aprendiz4.imprimir()\n",
        "print(\"---------------------------\")\n"
      ],
      "execution_count": 18,
      "outputs": [
        {
          "output_type": "stream",
          "text": [
            "IdPersona:  1000\n",
            "Nombre:  ana Ariza\n",
            "Correo ana@misena.edu.co\n",
            "Ficha Aprendiz:  200\n",
            "Eps:  sanitas\n",
            "---------------------------\n",
            "IdPersona:  2000\n",
            "Nombre:  ruben rojas\n",
            "Correo ruben@misena.edu.co\n",
            "Ficha Aprendiz:  200\n",
            "Eps:  nueva eps\n",
            "---------------------------\n",
            "IdPersona:  3000\n",
            "Nombre:  marcos martinez\n",
            "Correo marcos@misena.edu.co\n",
            "Ficha Aprendiz:  100\n",
            "Eps:  sanitas\n",
            "---------------------------\n",
            "IdPersona:  4000\n",
            "Nombre:  susana suarez\n",
            "Correo susana@misena.edu.co\n",
            "Ficha Aprendiz:  100\n",
            "Eps:  nueva eps\n",
            "---------------------------\n"
          ],
          "name": "stdout"
        }
      ]
    }
  ]
}