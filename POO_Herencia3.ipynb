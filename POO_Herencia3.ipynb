{
  "nbformat": 4,
  "nbformat_minor": 0,
  "metadata": {
    "colab": {
      "name": "POO_Herencia3.ipynb",
      "provenance": [],
      "authorship_tag": "ABX9TyMT7lV07AW+iAwfALA4rCaH",
      "include_colab_link": true
    },
    "kernelspec": {
      "name": "python3",
      "display_name": "Python 3"
    }
  },
  "cells": [
    {
      "cell_type": "markdown",
      "metadata": {
        "id": "view-in-github",
        "colab_type": "text"
      },
      "source": [
        "<a href=\"https://colab.research.google.com/github/PedroMelendez2020/algoritmiaconpython/blob/master/POO_Herencia3.ipynb\" target=\"_parent\"><img src=\"https://colab.research.google.com/assets/colab-badge.svg\" alt=\"Open In Colab\"/></a>"
      ]
    },
    {
      "cell_type": "code",
      "metadata": {
        "id": "wLJCChFPEufb"
      },
      "source": [
        "class Vehiculo():\n",
        "\n",
        "    def __init__(self, color, ruedas):\n",
        "        self.color = color\n",
        "        self.ruedas = ruedas\n",
        "\n",
        "    def __str__(self):\n",
        "        return \"Color {}, {} ruedas\".format( self.color, self.ruedas )"
      ],
      "execution_count": 6,
      "outputs": []
    },
    {
      "cell_type": "code",
      "metadata": {
        "id": "16BJuUeAEx3R"
      },
      "source": [
        "vehiculo1 = Vehiculo(\"azul\",4)\n",
        "print (vehiculo1)"
      ],
      "execution_count": null,
      "outputs": []
    },
    {
      "cell_type": "code",
      "metadata": {
        "id": "P45mlhgmFI-F"
      },
      "source": [
        "class Coche(Vehiculo):\n",
        "\n",
        "    def __init__(self, color, ruedas, velocidad, cilindrada):\n",
        "        super().__init__(color, ruedas)  # utilizamos super()\n",
        "        self.velocidad = velocidad\n",
        "        self.cilindrada = cilindrada\n",
        "\n",
        "    def __str__(self):\n",
        "        return super().__str__() + \", {} km/h, {} cc\".format(\n",
        "            self.velocidad, self.cilindrada)"
      ],
      "execution_count": 8,
      "outputs": []
    },
    {
      "cell_type": "code",
      "metadata": {
        "id": "hlAziIUbFPdR"
      },
      "source": [
        "coche1 = Coche(\"verde\",4,100,2000)\n",
        "print(coche1)"
      ],
      "execution_count": null,
      "outputs": []
    },
    {
      "cell_type": "markdown",
      "metadata": {
        "id": "kZLQCqgh41Cf"
      },
      "source": [
        "# **Problema 1:**\n",
        "Plantear una clase Persona que contenga dos atributos **privados**: nombre y edad. Definir como responsabilidades la carga por teclado y su impresión.\n",
        "\n",
        "Declarar una segunda clase llamada Empleado que herede de la clase Persona y agregue un atributo **privado** sueldo y muestre si debe pagar impuestos (sueldo superior a 3000)\n",
        "\n",
        "\n",
        "En el bloque principal del programa definir un objeto de la clase Empleado y determiar si debe o no pagar impuestos"
      ]
    },
    {
      "cell_type": "code",
      "metadata": {
        "id": "woY7UB5Z51Tm"
      },
      "source": [
        "class Persona:\n",
        "\n",
        "    def __init__(self):\n",
        "        self.nombre = input(\"Ingrese el nombre: \")\n",
        "        self.edad = int(input(\"Ingrese la edad: \"))\n",
        "\n",
        "    def imprimir(self):\n",
        "        print(\"Nombre: \",self.nombre)\n",
        "        print(\"Edad: \",self.edad)"
      ],
      "execution_count": 1,
      "outputs": []
    },
    {
      "cell_type": "code",
      "metadata": {
        "id": "Thn5LqsICirc"
      },
      "source": [
        "class Empleado(Persona):\n",
        "\n",
        "    def __init__(self):\n",
        "        super().__init__()\n",
        "        self.sueldo=float(input(\"Ingrese el sueldo: \"))\n",
        "\n",
        "    def imprimir(self):\n",
        "        super().imprimir()\n",
        "        print(\"Sueldo: \",self.sueldo)\n",
        "\n",
        "    def paga_impuestos(self):\n",
        "        if self.sueldo > 3000:\n",
        "            print(\"El empleado debe pagar impuestos\")\n",
        "        else:\n",
        "            print(\"No paga impuestos\")"
      ],
      "execution_count": 2,
      "outputs": []
    },
    {
      "cell_type": "code",
      "metadata": {
        "id": "qB7LfUN8Csvz"
      },
      "source": [
        "# bloque principal\n",
        "\n",
        "print(\"____________________________\")\n",
        "empleado1 = Empleado()\n",
        "empleado1.imprimir()\n",
        "empleado1.paga_impuestos()"
      ],
      "execution_count": null,
      "outputs": []
    },
    {
      "cell_type": "code",
      "metadata": {
        "id": "y6V2dj0rGvoU"
      },
      "source": [
        "class Persona:\n",
        "\n",
        "     def __init__(self,nomb,edad):\n",
        "       self.__nomb = nomb\n",
        "       self.__edad = edad\n",
        "\n",
        "     def setNomb(self,nom):\n",
        "       self.__nomb = nom\n",
        "\n",
        "     def getNomb(self):\n",
        "       return self.__nomb\n",
        "       \n",
        "     def setEdad(self,edd):\n",
        "         self.__edad = edd\n",
        "\n",
        "     def getEdad(self):\n",
        "       return self.__edad\n",
        "\n",
        "     def imprimir(self):\n",
        "         print(\"NOMBRE: \",self.getNomb())\n",
        "         print(\"Edad: \", self.getEdad())\n",
        "\n",
        "     def cargar_Datos(self):\n",
        "         self.setNomb(input(\"DIGITE NOMBRE \"))\n",
        "         self.setEdad(input(\"DIGITE EDAD \"))\n",
        "\n",
        "\n",
        "class Empleado(Persona):\n",
        "   def __init__(self,nombre, edad, sueldo):\n",
        "      super().__init__(nombre, edad)\n",
        "      self.__sueldo = sueldo\n",
        "\n",
        "   def setSueldo(self,sueldo):\n",
        "         self.__sueldo = sueldo\n",
        "\n",
        "   def getSueldo(self):\n",
        "       return self.__sueldo\n",
        "\n",
        "   def impuestos(self):\n",
        "     if self.__sueldo > 3000:\n",
        "        print(\"debe pagar impuestos\")\n",
        "     else:\n",
        "        print(\"No debe pagar impuestos\")\n",
        "\n",
        "   def sueldos(self):\n",
        "       print(\"su sueldo es : \",self.__sueldo)"
      ],
      "execution_count": 20,
      "outputs": []
    },
    {
      "cell_type": "code",
      "metadata": {
        "id": "ZU-JMRdUJOee",
        "outputId": "17608be2-aaaa-47ba-8da3-45d60a29cbd4",
        "colab": {
          "base_uri": "https://localhost:8080/"
        }
      },
      "source": [
        "empleado1 = Empleado(\"Alvaro\",\"20\",2000)\n",
        "empleado1.imprimir()\n",
        "empleado1.sueldos()\n",
        "empleado1.impuestos()\n",
        "empleado1.cargar_Datos()\n",
        "empleado1.imprimir()\n"
      ],
      "execution_count": 21,
      "outputs": [
        {
          "output_type": "stream",
          "text": [
            "NOMBRE:  Alvaro\n",
            "Edad:  20\n",
            "su sueldo es :  2000\n",
            "No debe pagar impuestos\n",
            "DIGITE NOMBRE ana\n",
            "DIGITE EDAD 15\n",
            "NOMBRE:  ana\n",
            "Edad:  15\n"
          ],
          "name": "stdout"
        }
      ]
    },
    {
      "cell_type": "markdown",
      "metadata": {
        "id": "3hAuunwZD_mP"
      },
      "source": [
        "# Problema propuesto\n",
        "\n",
        "Declarar una clase Cuenta y dos subclases: CtaAhorro y PlazoFijo. Definir los atributos y métodos comunes entre una CtaAhorro y un PlazoFijo y agruparlos en la clase Cuenta.\n",
        "\n",
        "Una CtaAhorro y un PlazoFijo tienen un nombre de titular y un monto. \n",
        "\n",
        "Un PlazoFijo añade un plazo de imposición en días y una tasa de interés(*). Hacer que la CtaAhorro no genera intereses.\n",
        "\n",
        "En el bloque principal del programa definir un objeto de la clase CtaAhorro y otro de la clase PlazoFijo.\n",
        "\n",
        "Aplicar los conceptos de herencia y encapsulamiento.\n",
        "\n",
        "(*) Interes simple. consulte en https://es.wikipedia.org/wiki/Inter%C3%A9s_simple\n"
      ]
    },
    {
      "cell_type": "code",
      "metadata": {
        "id": "WQv2ns7sD_Wh"
      },
      "source": [
        ""
      ],
      "execution_count": null,
      "outputs": []
    }
  ]
}