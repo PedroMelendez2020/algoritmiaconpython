{
  "nbformat": 4,
  "nbformat_minor": 0,
  "metadata": {
    "colab": {
      "name": "pthyton01.ipynb",
      "provenance": [],
      "authorship_tag": "ABX9TyOmJoueT0UIegWp2KI8+PDX",
      "include_colab_link": true
    },
    "kernelspec": {
      "name": "python3",
      "display_name": "Python 3"
    }
  },
  "cells": [
    {
      "cell_type": "markdown",
      "metadata": {
        "id": "view-in-github",
        "colab_type": "text"
      },
      "source": [
        "<a href=\"https://colab.research.google.com/github/PedroMelendez2020/algoritmiaconpython/blob/master/pthyton01.ipynb\" target=\"_parent\"><img src=\"https://colab.research.google.com/assets/colab-badge.svg\" alt=\"Open In Colab\"/></a>"
      ]
    },
    {
      "cell_type": "markdown",
      "metadata": {
        "id": "t5NM80qkbaqQ",
        "colab_type": "text"
      },
      "source": [
        "**Consultar tipo de dato**"
      ]
    },
    {
      "cell_type": "code",
      "metadata": {
        "id": "xAEqNblIaw1I",
        "colab_type": "code",
        "colab": {}
      },
      "source": [
        "num1=(input(\"ingrese valor:\"))\n",
        "print(num1)\n",
        "print(type(num1))"
      ],
      "execution_count": null,
      "outputs": []
    },
    {
      "cell_type": "markdown",
      "metadata": {
        "id": "X5uDnJPMb-xV",
        "colab_type": "text"
      },
      "source": [
        "**Leer tipo de dato númerico**"
      ]
    },
    {
      "cell_type": "code",
      "metadata": {
        "id": "9dSrkRCrb9IT",
        "colab_type": "code",
        "colab": {}
      },
      "source": [
        "num1=int(input(\"ingrese valor:\"))\n",
        "print(num1)\n",
        "print(type(num1))"
      ],
      "execution_count": null,
      "outputs": []
    },
    {
      "cell_type": "markdown",
      "metadata": {
        "id": "cnC0PjMocQA5",
        "colab_type": "text"
      },
      "source": [
        "**Algunas operaciones básicas**"
      ]
    },
    {
      "cell_type": "code",
      "metadata": {
        "id": "D1GkWP_YrhlE",
        "colab_type": "code",
        "colab": {}
      },
      "source": [
        "num1=int(input(\"ingrese primer valor:\"))\n",
        "num2=int(input(\"ingrese segundo valor:\"))\n",
        "suma=num1+num2\n",
        "producto=num1*num2\n",
        "print(\"La suma de los dos valores es\")\n",
        "print(suma)\n",
        "print(\"El producto de los dos valores es\")\n",
        "print(producto) "
      ],
      "execution_count": null,
      "outputs": []
    },
    {
      "cell_type": "markdown",
      "metadata": {
        "id": "hPcYfLEGdu-O",
        "colab_type": "text"
      },
      "source": [
        "**Ejercicio**\n",
        "\n",
        "*   Qué hace la instrucción print \n",
        "*   Cuál es la salida de print (1 / 3)\n",
        "*   Cuál es la salida de print (1 .3 * 3)\n",
        "*   Cuál es la salida de print (1 .0 * 3)\n",
        "*   Cuál es la salida de print (10 + 3 * 7 )\n",
        "*   Cuál es la salida de print ((10 + 3) * 7 )\n",
        "*   Cuál es la salida de print (\"Hola\" + \"todos\") \n"
      ]
    },
    {
      "cell_type": "markdown",
      "metadata": {
        "id": "TpAC3ldLe6CO",
        "colab_type": "text"
      },
      "source": [
        "**¿Cuál es la salida de lo siguiente?**\n",
        "\n",
        "- a = 4\n",
        "- b = 2\n",
        "- x = b - a\n",
        "- print (x)\n"
      ]
    },
    {
      "cell_type": "code",
      "metadata": {
        "id": "f4mSGpy1c5xT",
        "colab_type": "code",
        "colab": {
          "base_uri": "https://localhost:8080/",
          "height": 51
        },
        "outputId": "719db5df-f129-449e-9c64-66d56049a44b"
      },
      "source": [
        "a= 4\n",
        "b = 2\n",
        "x = b - a\n",
        "print (\"valor de x= \"+ str(x))\n",
        "y= (a + b) * x\n",
        "print (y) "
      ],
      "execution_count": null,
      "outputs": [
        {
          "output_type": "stream",
          "text": [
            "valor de x= -2\n",
            "-12\n"
          ],
          "name": "stdout"
        }
      ]
    },
    {
      "cell_type": "markdown",
      "metadata": {
        "id": "Jwmwlf4YjU89",
        "colab_type": "text"
      },
      "source": [
        "**CONDICIONAL if**\n",
        "- La sentencia condicional if se usa para tomar decisiones, este evaluá básicamente una operación lógica, es decir una expresión que de como resultado True o False, y ejecuta la pieza de código siguiente siempre y cuando el resultado sea verdadero.\n",
        "- La sentencia if, significa, Si se cumple la expresión condicional se ejecuta el bloque de sentencias seguidas.\n"
      ]
    },
    {
      "cell_type": "markdown",
      "metadata": {
        "id": "wc6e8FX4j6HC",
        "colab_type": "text"
      },
      "source": [
        "if (dato1 == dato2):\n",
        "\n",
        "    print (\"'dato1' y 'dato2' son iguales.\")\n",
        "\n",
        "\n",
        "\n",
        "    "
      ]
    },
    {
      "cell_type": "markdown",
      "metadata": {
        "id": "nxu_4Dr5mTOq",
        "colab_type": "text"
      },
      "source": [
        "![1.jpg](data:image/jpeg;base64,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)"
      ]
    },
    {
      "cell_type": "markdown",
      "metadata": {
        "id": "sR4i9TLFml5r",
        "colab_type": "text"
      },
      "source": [
        "if (dato1 == dato2):\n",
        "\n",
        "    print \"'dato1' y 'dato2' son iguales.\"\n",
        "\n",
        "else:\n",
        " \n",
        "    print \"'dato1' y 'dato2' no son iguales.\""
      ]
    },
    {
      "cell_type": "markdown",
      "metadata": {
        "id": "O_UtCxc-ne5q",
        "colab_type": "text"
      },
      "source": [
        "![2.jpg](data:image/jpeg;base64,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)"
      ]
    },
    {
      "cell_type": "markdown",
      "metadata": {
        "id": "Bwh08LeBntDT",
        "colab_type": "text"
      },
      "source": [
        "**Ejemplos**\n",
        "- A continuación, se presenta un ejemplo del uso de condicionales if:\n",
        "\n",
        "- Definir variables usadas en los siguientes ejemplos:\n",
        "\n",
        " dato1, dato2, dato3, dato4 = 21, 10, 5, 20;\n",
        "Ejemplo de operador de comparación Igual:\n",
        "\n",
        "if (dato1 == dato2):\n",
        "\n",
        "    print \"'dato1' y 'dato2' son iguales.\"\n",
        "\n",
        "else:\n",
        "\n",
        "    print \"'dato1' y 'dato2' no son iguales.\"\n",
        "\n",
        "Ejemplo de operador de comparación Distinto:\n",
        "\n",
        "if (dato1 != dato2):\n",
        "\n",
        "    print \"'dato1' y 'dato2' son distintas.\"\n",
        "\n",
        "else:\n",
        "\n",
        "    print \"'dato1' y 'dato2' no son distintas.\"\n",
        "\n",
        "Ejemplo de operador de comparación Diferente:\n",
        "\n",
        "if (dato1 <> dato2):\n",
        "\n",
        "    print \"'dato1' y 'dato2' son diferentes.\"\n",
        "\n",
        "else:\n",
        "\n",
        "    print \"'dato1' y 'dato2' no son diferentes.\"\n",
        "\n",
        "Ejemplo de operador de comparación Menor que:\n",
        "\n",
        "if (dato1 < dato2):\n",
        "\n",
        "    print \"'dato1' es menor que 'dato2'.\"\n",
        "\n",
        "else:\n",
        "\n",
        "    print \"'dato1' no es menor que 'dato2'.\"\n",
        "\n",
        "Ejemplo de operador de comparación Mayor que:\n",
        "\n",
        "if (dato1 > dato2):\n",
        "\n",
        "    print \"'dato1' es mayor que 'dato2'.\"\n",
        "\n",
        "else:\n",
        "\n",
        "    print \"'dato1' no es mayor que 'dato2'.\"\n",
        "\n",
        "Ejemplo de operador de comparación Menor o igual que:\n",
        "\n",
        "if (dato3 <= dato4):\n",
        "\n",
        "    print \"'dato3' es menor o igual que 'dato4'.\"\n",
        "\n",
        "else:\n",
        "\n",
        "    print \"'dato3' no es menor o igual que 'dato4'.\"\n",
        "\n",
        "Ejemplo de operador de comparación Mayor o igual que:\n",
        "\n",
        "if (dato4 >= dato3):\n",
        "\n",
        "    print \"'dato4' es mayor o igual que 'dato3'.\"\n",
        "\n",
        "else:\n",
        "\n",
        "    print \"'dato4' no es mayor o igual que 'dato3'.\""
      ]
    },
    {
      "cell_type": "code",
      "metadata": {
        "id": "TybxRxW4APQM",
        "colab_type": "code",
        "colab": {}
      },
      "source": [
        ""
      ],
      "execution_count": null,
      "outputs": []
    },
    {
      "cell_type": "code",
      "metadata": {
        "id": "s3t6WFDrl7Be",
        "colab_type": "code",
        "colab": {}
      },
      "source": [
        ""
      ],
      "execution_count": null,
      "outputs": []
    },
    {
      "cell_type": "markdown",
      "metadata": {
        "id": "V2eVKlg2iZjf",
        "colab_type": "text"
      },
      "source": [
        "WORKSHOP\n",
        "1.\tEl maestro de la clase de Matemáticas quiere determinar cuál es la calificación más alta de su grupo, forma grupos de tres calificaciones y las captura. Desarrollar un algoritmo, el cual determine la mayor de las tres calificaciones, el programa debe mostrar en pantalla la calificación mayor.\n",
        "2.\tEn Mega Plaza se hace un 20% de descuento a los clientes cuya compra supere los 300, pero si la compra supera los 700 se le hace un descuento adicional de 5% ¿Cuál será la cantidad que pagara una persona por su compra si además tiene que pagar en 6% de impuesto después del descuento?\n",
        "3.\tUn empleado necesita calcular su salario semanal, el cual se obtiene de la siguiente manera: si trabaja hasta 20 horas se le paga 320. Si trabaja más de 20 horas pero menos de 40 horas se le paga 18 por hora. \n",
        "Si trabaja más de 40 horas se le paga 18 por cada una de las primeras 40 horas y $20 por cada hora extra. \n",
        "4.\tUn año es bisiesto si es divisible por 4 excepto aquellos divisibles por 100 pero no por 400. Según el año determine la cantidad de días del mes de febrero. \n",
        "5.\tUn cliente ordena cierta cantidad de brochas de cerda, rodillos y sellador; las brochas de cerda tienen un 20% de descuento y los rodillos un 15% de descuento. Los datos que se tienen por cada tipo de artículo son: la cantidad pedida y el precio unitario. Además, si se paga de contado todo tiene un descuento del 7%. Elaborar un algoritmo que calcule y muestre en pantalla el costo total de la orden, tanto para el pago de contado como para el caso de pago de crédito.\n",
        "\n",
        "6.\tEn la tienda de mayoreo San Juanita el impuesto que se debe pagar por los artículos adquiridos  se calcula de la siguiente manera: \n",
        "Los primeros 30 no causan impuesto, los siguientes $30 tienen un 30% de impuesto y el resto el 40% de impuesto, pero si el costo del producto es mayor a 400, entonces se cobra el 50%. Desarrollar un algoritmo que lea el costo básico de un artículo y calcule el costo total. Muestre en pantalla el artículo y su costo total.\n",
        "\n",
        "7.\tEl departamento de Recursos Humanos de la empresa café Combate quiere desarrollar un calendario en línea para sus empleados, para calendarizar el número de días hábiles de trabajo de tal manera que el empleado introduzca el año y un número de mes (1 a 12), y visualice el número de días de ese mes. Debe considerar que el mes 2 corresponde a febrero que pude tener 29 o 28 días dependiendo de si es o no bisiesto, el año correspondiente. Desarrolle un algoritmo que cumpla con las especificaciones mencionadas y muestre en pantalla el mes, el número de días y en el caso de que sea año bisiesto mostrar el mensaje de que es año bisiesto.   \n",
        "\n",
        "8.\tEl jefe del departamento de construcción de la constructora Pagasa, desea que se le desarrolle un algoritmo para sus empleados, el cual calcule el sueldo de un empleado, de tal manera que el sueldo se calculará de la siguiente manera: si el número de horas trabajadas es mayor a 40, el excedente de 40 hrs. se paga al doble de la cuota por hora, en caso de no ser mayor a 40 hrs. se paga la cuota normal por hora, si las horas exceden a 50 hrs. el excedente de 50 hrs. se paga al triple de la cuota por hora. Se les descontara un impuesto del 12% sobre su sueldo. Se pedirá el nombre del empleado, el número de horas trabajadas y la cuota por hora. mostrar en pantalla el nombre del empleado, el número de horas trabajadas y su suelto\n"
      ]
    },
    {
      "cell_type": "code",
      "metadata": {
        "id": "U8PC1iz0c04m",
        "colab_type": "code",
        "colab": {}
      },
      "source": [
        "anio = int(input(\"Digite el año: \"))\n",
        "if (anio % 4 == 0):\n",
        "     if(anio % 100 == 0):\n",
        "         if(anio % 400 ==0):\n",
        "           bisiesto = True\n",
        "         else:\n",
        "           bisiesto = False\n",
        "     else:\n",
        "       bisiesto = True\n",
        "else:\n",
        "  bisiesto = False\n",
        "\n",
        "if(bisiesto):\n",
        "   print(\"Febrero tiene 29 dias\") \n",
        "else:\n",
        "  print(\"Febrero tiene 28 dias\") \n"
      ],
      "execution_count": null,
      "outputs": []
    }
  ]
}