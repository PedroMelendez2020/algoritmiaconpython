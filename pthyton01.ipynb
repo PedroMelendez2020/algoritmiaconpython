{
  "nbformat": 4,
  "nbformat_minor": 0,
  "metadata": {
    "colab": {
      "name": "pthyton01.ipynb",
      "provenance": [],
      "authorship_tag": "ABX9TyP8vBJppLmply+FTtLlv0TS",
      "include_colab_link": true
    },
    "kernelspec": {
      "name": "python3",
      "display_name": "Python 3"
    }
  },
  "cells": [
    {
      "cell_type": "markdown",
      "metadata": {
        "id": "view-in-github",
        "colab_type": "text"
      },
      "source": [
        "<a href=\"https://colab.research.google.com/github/PedroMelendez2020/algoritmiaconpython/blob/master/pthyton01.ipynb\" target=\"_parent\"><img src=\"https://colab.research.google.com/assets/colab-badge.svg\" alt=\"Open In Colab\"/></a>"
      ]
    },
    {
      "cell_type": "markdown",
      "metadata": {
        "id": "t5NM80qkbaqQ",
        "colab_type": "text"
      },
      "source": [
        "**Consultar tipo de dato**"
      ]
    },
    {
      "cell_type": "code",
      "metadata": {
        "id": "xAEqNblIaw1I",
        "colab_type": "code",
        "colab": {}
      },
      "source": [
        "num1=(input(\"ingrese valor:\"))\n",
        "print(num1)\n",
        "print(type(num1))"
      ],
      "execution_count": null,
      "outputs": []
    },
    {
      "cell_type": "markdown",
      "metadata": {
        "id": "X5uDnJPMb-xV",
        "colab_type": "text"
      },
      "source": [
        "**Leer tipo de dato númerico**"
      ]
    },
    {
      "cell_type": "code",
      "metadata": {
        "id": "9dSrkRCrb9IT",
        "colab_type": "code",
        "colab": {}
      },
      "source": [
        "num1=int(input(\"ingrese valor:\"))\n",
        "print(num1)\n",
        "print(type(num1))"
      ],
      "execution_count": null,
      "outputs": []
    },
    {
      "cell_type": "markdown",
      "metadata": {
        "id": "cnC0PjMocQA5",
        "colab_type": "text"
      },
      "source": [
        "**Algunas operaciones básicas**"
      ]
    },
    {
      "cell_type": "code",
      "metadata": {
        "id": "D1GkWP_YrhlE",
        "colab_type": "code",
        "colab": {}
      },
      "source": [
        "num1=int(input(\"ingrese primer valor:\"))\n",
        "num2=int(input(\"ingrese segundo valor:\"))\n",
        "suma=num1+num2\n",
        "producto=num1*num2\n",
        "print(\"La suma de los dos valores es\")\n",
        "print(suma)\n",
        "print(\"El producto de los dos valores es\")\n",
        "print(producto) "
      ],
      "execution_count": null,
      "outputs": []
    },
    {
      "cell_type": "markdown",
      "metadata": {
        "id": "hPcYfLEGdu-O",
        "colab_type": "text"
      },
      "source": [
        "**Ejercicio**\n",
        "\n",
        "*   Qué hace la instrucción print \n",
        "*   Cuál es la salida de print (1 / 3)\n",
        "*   Cuál es la salida de print (1 .3 * 3)\n",
        "*   Cuál es la salida de print (1 .0 * 3)\n",
        "*   Cuál es la salida de print (10 + 3 * 7 )\n",
        "*   Cuál es la salida de print ((10 + 3) * 7 )\n",
        "*   Cuál es la salida de print (\"Hola\" + \"todos\") \n"
      ]
    },
    {
      "cell_type": "markdown",
      "metadata": {
        "id": "TpAC3ldLe6CO",
        "colab_type": "text"
      },
      "source": [
        "**¿Cuál es la salida de lo siguiente?**\n",
        "\n",
        "- a = 4\n",
        "- b = 2\n",
        "- x = b - a\n",
        "- print (x)\n"
      ]
    },
    {
      "cell_type": "code",
      "metadata": {
        "id": "f4mSGpy1c5xT",
        "colab_type": "code",
        "colab": {}
      },
      "source": [
        "a= 4\n",
        "b = 2\n",
        "x = b - a\n",
        "print (x)"
      ],
      "execution_count": null,
      "outputs": []
    },
    {
      "cell_type": "code",
      "metadata": {
        "id": "U8PC1iz0c04m",
        "colab_type": "code",
        "colab": {}
      },
      "source": [
        ""
      ],
      "execution_count": null,
      "outputs": []
    }
  ]
}